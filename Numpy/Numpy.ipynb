{
  "nbformat": 4,
  "nbformat_minor": 0,
  "metadata": {
    "colab": {
      "name": "Numpy.ipynb",
      "provenance": [],
      "collapsed_sections": [
        "Wwg9GL7-Ir6Y"
      ],
      "authorship_tag": "ABX9TyMlCDnf/WK1ja9OjooCgiZ6",
      "include_colab_link": true
    },
    "kernelspec": {
      "name": "python3",
      "display_name": "Python 3"
    },
    "language_info": {
      "name": "python"
    }
  },
  "cells": [
    {
      "cell_type": "markdown",
      "metadata": {
        "id": "view-in-github",
        "colab_type": "text"
      },
      "source": [
        "<a href=\"https://colab.research.google.com/github/palanioffcl/Machine-Learning/blob/main/Numpy.ipynb\" target=\"_parent\"><img src=\"https://colab.research.google.com/assets/colab-badge.svg\" alt=\"Open In Colab\"/></a>"
      ]
    },
    {
      "cell_type": "markdown",
      "metadata": {
        "id": "G7tuwRFuUvsz"
      },
      "source": [
        "## **1. Introduction to Numpy**"
      ]
    },
    {
      "cell_type": "code",
      "metadata": {
        "id": "sapjKUPSVAHD"
      },
      "source": [
        "# Importing numpy \n",
        "\n",
        "import numpy as np"
      ],
      "execution_count": 1,
      "outputs": []
    },
    {
      "cell_type": "markdown",
      "metadata": {
        "id": "w8m0dojzYnJS"
      },
      "source": [
        "**Functions in Numpy :)**\n",
        "\n",
        "1.   np.array([\"     \"])\n"
      ]
    },
    {
      "cell_type": "code",
      "metadata": {
        "colab": {
          "base_uri": "https://localhost:8080/"
        },
        "id": "BYIcwaovU6NW",
        "outputId": "c01d3f8e-ced0-45be-d3f1-b7aa0bed5b40"
      },
      "source": [
        "# Single (1-dimensional Array)\n",
        "# numpy main datatype is nparray\n",
        "a1 = np.array([1,2,3,])\n",
        "a1"
      ],
      "execution_count": 2,
      "outputs": [
        {
          "output_type": "execute_result",
          "data": {
            "text/plain": [
              "array([1, 2, 3])"
            ]
          },
          "metadata": {},
          "execution_count": 2
        }
      ]
    },
    {
      "cell_type": "code",
      "metadata": {
        "colab": {
          "base_uri": "https://localhost:8080/"
        },
        "id": "8_ULmIcOVm63",
        "outputId": "42d0fe9f-def0-4c05-cd9e-a139f6521854"
      },
      "source": [
        "# 2-dimensional Array\n",
        "a2 = np.array([[1, 2, 3.7], \n",
        "              [4.0, 5, 6.2]])\n",
        "a2"
      ],
      "execution_count": 3,
      "outputs": [
        {
          "output_type": "execute_result",
          "data": {
            "text/plain": [
              "array([[1. , 2. , 3.7],\n",
              "       [4. , 5. , 6.2]])"
            ]
          },
          "metadata": {},
          "execution_count": 3
        }
      ]
    },
    {
      "cell_type": "code",
      "metadata": {
        "id": "M2BB1BxsWAbk"
      },
      "source": [
        "# 3-dimensional Array\n",
        "\n",
        "a3 = np.array([[[1, 2, 3,],\n",
        "               [4, 5, 6,], \n",
        "               [7, 8, 9]],\n",
        "               [[10, 11, 12],\n",
        "               [13, 14, 15],\n",
        "                [16, 17, 18]]])"
      ],
      "execution_count": 4,
      "outputs": []
    },
    {
      "cell_type": "markdown",
      "metadata": {
        "id": "VqdTRHWlZaOQ"
      },
      "source": [
        "**Attributes in Numpy**\n",
        "\n",
        "1.   type\n",
        "2.   shape\n",
        "3.   ndim\n",
        "4.   size\n",
        "\n"
      ]
    },
    {
      "cell_type": "code",
      "metadata": {
        "colab": {
          "base_uri": "https://localhost:8080/"
        },
        "id": "P8XclhKvVZUf",
        "outputId": "b0c1c68b-331c-48fa-f7fd-c3658f0f79ea"
      },
      "source": [
        "# 1. type\n",
        "type(a1), type(a2), type(a3)"
      ],
      "execution_count": 5,
      "outputs": [
        {
          "output_type": "execute_result",
          "data": {
            "text/plain": [
              "(numpy.ndarray, numpy.ndarray, numpy.ndarray)"
            ]
          },
          "metadata": {},
          "execution_count": 5
        }
      ]
    },
    {
      "cell_type": "code",
      "metadata": {
        "colab": {
          "base_uri": "https://localhost:8080/"
        },
        "id": "k84BKCoIVx6c",
        "outputId": "3f73cdee-b10b-4a62-b9f5-9934cc9474ef"
      },
      "source": [
        "# 2.shape\n",
        "a1.shape, a2.shape, a3.shape"
      ],
      "execution_count": 6,
      "outputs": [
        {
          "output_type": "execute_result",
          "data": {
            "text/plain": [
              "((3,), (2, 3), (2, 3, 3))"
            ]
          },
          "metadata": {},
          "execution_count": 6
        }
      ]
    },
    {
      "cell_type": "code",
      "metadata": {
        "colab": {
          "base_uri": "https://localhost:8080/"
        },
        "id": "Jv9tutJpWcIu",
        "outputId": "6597c850-774b-4faa-96d0-37560b5052dd"
      },
      "source": [
        "# 3.dimensions of the array\n",
        "a1.ndim, a2.ndim, a3.ndim"
      ],
      "execution_count": 7,
      "outputs": [
        {
          "output_type": "execute_result",
          "data": {
            "text/plain": [
              "(1, 2, 3)"
            ]
          },
          "metadata": {},
          "execution_count": 7
        }
      ]
    },
    {
      "cell_type": "code",
      "metadata": {
        "colab": {
          "base_uri": "https://localhost:8080/"
        },
        "id": "Aorg_ayaWp7z",
        "outputId": "5fc5e2d9-1630-475f-cc2d-300b800f055e"
      },
      "source": [
        "# 4. no.of the elements of the array\n",
        "a1.size, a2.size, a3.size"
      ],
      "execution_count": 8,
      "outputs": [
        {
          "output_type": "execute_result",
          "data": {
            "text/plain": [
              "(3, 6, 18)"
            ]
          },
          "metadata": {},
          "execution_count": 8
        }
      ]
    },
    {
      "cell_type": "code",
      "metadata": {
        "colab": {
          "base_uri": "https://localhost:8080/"
        },
        "id": "TsT1jS9RXZMZ",
        "outputId": "556587c6-2dbb-4eba-ae9a-54115aa65d10"
      },
      "source": [
        "# Finding dtype of the array\n",
        "\n",
        "a1.dtype, a2.dtype, a3.dtype"
      ],
      "execution_count": 9,
      "outputs": [
        {
          "output_type": "execute_result",
          "data": {
            "text/plain": [
              "(dtype('int64'), dtype('float64'), dtype('int64'))"
            ]
          },
          "metadata": {},
          "execution_count": 9
        }
      ]
    },
    {
      "cell_type": "code",
      "metadata": {
        "colab": {
          "base_uri": "https://localhost:8080/",
          "height": 108
        },
        "id": "FjOx0JBNbB4D",
        "outputId": "69c41d1b-3102-4a6c-c41e-cbf5bd458325"
      },
      "source": [
        "# Creating Dataframe from a numpy array\n",
        "\n",
        "import pandas as pd\n",
        "df = pd.DataFrame(a2)\n",
        "df"
      ],
      "execution_count": 10,
      "outputs": [
        {
          "output_type": "execute_result",
          "data": {
            "text/html": [
              "<div>\n",
              "<style scoped>\n",
              "    .dataframe tbody tr th:only-of-type {\n",
              "        vertical-align: middle;\n",
              "    }\n",
              "\n",
              "    .dataframe tbody tr th {\n",
              "        vertical-align: top;\n",
              "    }\n",
              "\n",
              "    .dataframe thead th {\n",
              "        text-align: right;\n",
              "    }\n",
              "</style>\n",
              "<table border=\"1\" class=\"dataframe\">\n",
              "  <thead>\n",
              "    <tr style=\"text-align: right;\">\n",
              "      <th></th>\n",
              "      <th>0</th>\n",
              "      <th>1</th>\n",
              "      <th>2</th>\n",
              "    </tr>\n",
              "  </thead>\n",
              "  <tbody>\n",
              "    <tr>\n",
              "      <th>0</th>\n",
              "      <td>1.0</td>\n",
              "      <td>2.0</td>\n",
              "      <td>3.7</td>\n",
              "    </tr>\n",
              "    <tr>\n",
              "      <th>1</th>\n",
              "      <td>4.0</td>\n",
              "      <td>5.0</td>\n",
              "      <td>6.2</td>\n",
              "    </tr>\n",
              "  </tbody>\n",
              "</table>\n",
              "</div>"
            ],
            "text/plain": [
              "     0    1    2\n",
              "0  1.0  2.0  3.7\n",
              "1  4.0  5.0  6.2"
            ]
          },
          "metadata": {},
          "execution_count": 10
        }
      ]
    },
    {
      "cell_type": "markdown",
      "metadata": {
        "id": "qld5mjbYJYoZ"
      },
      "source": [
        "# **2. Creating Random Arrays**"
      ]
    },
    {
      "cell_type": "code",
      "metadata": {
        "id": "KCL0Nqk5btpR"
      },
      "source": [
        "null = np.ones((2, 3))"
      ],
      "execution_count": 11,
      "outputs": []
    },
    {
      "cell_type": "code",
      "metadata": {
        "colab": {
          "base_uri": "https://localhost:8080/"
        },
        "id": "7ng_-gVUe60k",
        "outputId": "909c2e4b-49cd-4849-a9be-ae393e428a3f"
      },
      "source": [
        "null"
      ],
      "execution_count": 12,
      "outputs": [
        {
          "output_type": "execute_result",
          "data": {
            "text/plain": [
              "array([[1., 1., 1.],\n",
              "       [1., 1., 1.]])"
            ]
          },
          "metadata": {},
          "execution_count": 12
        }
      ]
    },
    {
      "cell_type": "code",
      "metadata": {
        "id": "s3jqPROFfAcr",
        "colab": {
          "base_uri": "https://localhost:8080/"
        },
        "outputId": "b35cafaf-7f6c-4eef-e84a-39bf2e5fefd3"
      },
      "source": [
        "zeros = np.zeros([5,5])\n",
        "zeros"
      ],
      "execution_count": 13,
      "outputs": [
        {
          "output_type": "execute_result",
          "data": {
            "text/plain": [
              "array([[0., 0., 0., 0., 0.],\n",
              "       [0., 0., 0., 0., 0.],\n",
              "       [0., 0., 0., 0., 0.],\n",
              "       [0., 0., 0., 0., 0.],\n",
              "       [0., 0., 0., 0., 0.]])"
            ]
          },
          "metadata": {},
          "execution_count": 13
        }
      ]
    },
    {
      "cell_type": "code",
      "metadata": {
        "id": "gIZIR-DVfRwq"
      },
      "source": [
        "random_array = np.random.randint(1,99 ,size=(4,5))"
      ],
      "execution_count": 164,
      "outputs": []
    },
    {
      "cell_type": "code",
      "metadata": {
        "colab": {
          "base_uri": "https://localhost:8080/"
        },
        "id": "5d7NERJfgf0p",
        "outputId": "3ac6ad33-465c-4894-8e57-9e76d4b98725"
      },
      "source": [
        "random_array"
      ],
      "execution_count": 166,
      "outputs": [
        {
          "output_type": "execute_result",
          "data": {
            "text/plain": [
              "array([[28, 10, 64, 82, 34],\n",
              "       [54, 19, 41, 91, 49],\n",
              "       [68, 39, 46, 94, 31],\n",
              "       [93,  7, 15, 31, 14]])"
            ]
          },
          "metadata": {},
          "execution_count": 166
        }
      ]
    },
    {
      "cell_type": "code",
      "metadata": {
        "colab": {
          "base_uri": "https://localhost:8080/"
        },
        "id": "HthenzQjgy_J",
        "outputId": "066d497f-0d95-450a-8c8a-eb95b08ec629"
      },
      "source": [
        "random_array.dtype"
      ],
      "execution_count": 167,
      "outputs": [
        {
          "output_type": "execute_result",
          "data": {
            "text/plain": [
              "dtype('int64')"
            ]
          },
          "metadata": {},
          "execution_count": 167
        }
      ]
    },
    {
      "cell_type": "code",
      "metadata": {
        "colab": {
          "base_uri": "https://localhost:8080/"
        },
        "id": "0W8PDUf5gkLI",
        "outputId": "5d376b06-14c9-43bc-fb40-86e2e051c419"
      },
      "source": [
        "np.random.random((5,5))"
      ],
      "execution_count": 168,
      "outputs": [
        {
          "output_type": "execute_result",
          "data": {
            "text/plain": [
              "array([[0.59920617, 0.61182036, 0.44167877, 0.01160861, 0.06713121],\n",
              "       [0.77572968, 0.00392082, 0.42436458, 0.3040837 , 0.62215211],\n",
              "       [0.56446027, 0.08430016, 0.92622473, 0.99995948, 0.51704053],\n",
              "       [0.08067139, 0.99746426, 0.79815152, 0.16747097, 0.38223546],\n",
              "       [0.48742659, 0.19650061, 0.49270604, 0.16120238, 0.45762434]])"
            ]
          },
          "metadata": {},
          "execution_count": 168
        }
      ]
    },
    {
      "cell_type": "code",
      "metadata": {
        "colab": {
          "base_uri": "https://localhost:8080/"
        },
        "id": "t2y8CWGYEQBe",
        "outputId": "a1b04572-30a6-42f5-c4a8-676d67b88931"
      },
      "source": [
        "# Psuedo Generator\n",
        "#np.random.seed()\n",
        "\n",
        "random_array_1 = np.random.randint(10, size=(4,6))\n",
        "random_array_1"
      ],
      "execution_count": 169,
      "outputs": [
        {
          "output_type": "execute_result",
          "data": {
            "text/plain": [
              "array([[4, 8, 2, 3, 0, 4],\n",
              "       [7, 2, 9, 5, 2, 1],\n",
              "       [5, 6, 7, 3, 7, 2],\n",
              "       [5, 0, 8, 4, 9, 5]])"
            ]
          },
          "metadata": {},
          "execution_count": 169
        }
      ]
    },
    {
      "cell_type": "code",
      "metadata": {
        "colab": {
          "base_uri": "https://localhost:8080/"
        },
        "id": "7dAQHWEhI7Tn",
        "outputId": "77cd75fa-1e3d-4ad5-dd23-18dcd9d5b3c2"
      },
      "source": [
        "random_array_2 = np.random.random((2,5))\n",
        "random_array_2"
      ],
      "execution_count": 170,
      "outputs": [
        {
          "output_type": "execute_result",
          "data": {
            "text/plain": [
              "array([[0.11956386, 0.35250158, 0.12783483, 0.19008288, 0.88612789],\n",
              "       [0.93479525, 0.68408996, 0.84779633, 0.48927002, 0.55637323]])"
            ]
          },
          "metadata": {},
          "execution_count": 170
        }
      ]
    },
    {
      "cell_type": "code",
      "metadata": {
        "id": "8wofi0xnGJnd",
        "colab": {
          "base_uri": "https://localhost:8080/"
        },
        "outputId": "1a55090c-3e7c-4b21-e0d0-02a0c0013aef"
      },
      "source": [
        "#Genertaing numbers using seed values\n",
        "\n",
        "np.random.seed(seed=5)\n",
        "random_array_2"
      ],
      "execution_count": 171,
      "outputs": [
        {
          "output_type": "execute_result",
          "data": {
            "text/plain": [
              "array([[0.11956386, 0.35250158, 0.12783483, 0.19008288, 0.88612789],\n",
              "       [0.93479525, 0.68408996, 0.84779633, 0.48927002, 0.55637323]])"
            ]
          },
          "metadata": {},
          "execution_count": 171
        }
      ]
    },
    {
      "cell_type": "markdown",
      "metadata": {
        "id": "O5RtkpitFdyE"
      },
      "source": [
        "# **3. Viewing Arrays & Matrices**"
      ]
    },
    {
      "cell_type": "code",
      "metadata": {
        "colab": {
          "base_uri": "https://localhost:8080/"
        },
        "id": "vSipki1CFyr8",
        "outputId": "6ecc2039-4089-41b5-ee3c-5dda414eebeb"
      },
      "source": [
        "random_array_2"
      ],
      "execution_count": 172,
      "outputs": [
        {
          "output_type": "execute_result",
          "data": {
            "text/plain": [
              "array([[0.11956386, 0.35250158, 0.12783483, 0.19008288, 0.88612789],\n",
              "       [0.93479525, 0.68408996, 0.84779633, 0.48927002, 0.55637323]])"
            ]
          },
          "metadata": {},
          "execution_count": 172
        }
      ]
    },
    {
      "cell_type": "code",
      "metadata": {
        "id": "9a1bFjKnGAaC",
        "colab": {
          "base_uri": "https://localhost:8080/"
        },
        "outputId": "4a50c2bb-4b45-4e51-c532-6230a9582487"
      },
      "source": [
        "random_array_2.shape"
      ],
      "execution_count": 173,
      "outputs": [
        {
          "output_type": "execute_result",
          "data": {
            "text/plain": [
              "(2, 5)"
            ]
          },
          "metadata": {},
          "execution_count": 173
        }
      ]
    },
    {
      "cell_type": "code",
      "metadata": {
        "colab": {
          "base_uri": "https://localhost:8080/"
        },
        "id": "Vab-6ftND8Ur",
        "outputId": "83ab399e-c3c8-4b75-bcf4-4df2e86db7ef"
      },
      "source": [
        "np.unique(random_array_1)"
      ],
      "execution_count": 174,
      "outputs": [
        {
          "output_type": "execute_result",
          "data": {
            "text/plain": [
              "array([0, 1, 2, 3, 4, 5, 6, 7, 8, 9])"
            ]
          },
          "metadata": {},
          "execution_count": 174
        }
      ]
    },
    {
      "cell_type": "code",
      "metadata": {
        "colab": {
          "base_uri": "https://localhost:8080/"
        },
        "id": "4ALIaN3zEK8z",
        "outputId": "967533d3-e291-4f20-e13d-747a000555d6"
      },
      "source": [
        "a1"
      ],
      "execution_count": 175,
      "outputs": [
        {
          "output_type": "execute_result",
          "data": {
            "text/plain": [
              "array([1, 2, 3])"
            ]
          },
          "metadata": {},
          "execution_count": 175
        }
      ]
    },
    {
      "cell_type": "code",
      "metadata": {
        "colab": {
          "base_uri": "https://localhost:8080/"
        },
        "id": "CXKzRBNVET-r",
        "outputId": "4a38eaa5-9911-4c45-fd54-640a2d36939b"
      },
      "source": [
        "a2"
      ],
      "execution_count": 176,
      "outputs": [
        {
          "output_type": "execute_result",
          "data": {
            "text/plain": [
              "array([[ 2.71828183,  7.3890561 , 20.08553692],\n",
              "       [ 2.71828183,  7.3890561 , 20.08553692]])"
            ]
          },
          "metadata": {},
          "execution_count": 176
        }
      ]
    },
    {
      "cell_type": "code",
      "metadata": {
        "colab": {
          "base_uri": "https://localhost:8080/"
        },
        "id": "WfWJMmpaEUq6",
        "outputId": "898695c1-39a1-4b1e-c6d5-a3b1fcc95baf"
      },
      "source": [
        "a3"
      ],
      "execution_count": 177,
      "outputs": [
        {
          "output_type": "execute_result",
          "data": {
            "text/plain": [
              "array([[[ 1,  2,  3],\n",
              "        [ 4,  5,  6],\n",
              "        [ 7,  8,  9]],\n",
              "\n",
              "       [[10, 11, 12],\n",
              "        [13, 14, 15],\n",
              "        [16, 17, 18]]])"
            ]
          },
          "metadata": {},
          "execution_count": 177
        }
      ]
    },
    {
      "cell_type": "code",
      "metadata": {
        "colab": {
          "base_uri": "https://localhost:8080/"
        },
        "id": "iU_kFIMMEViy",
        "outputId": "caacd4e6-6d1a-4b24-fe29-2bdd69995777"
      },
      "source": [
        "a1[0]"
      ],
      "execution_count": 178,
      "outputs": [
        {
          "output_type": "execute_result",
          "data": {
            "text/plain": [
              "1"
            ]
          },
          "metadata": {},
          "execution_count": 178
        }
      ]
    },
    {
      "cell_type": "code",
      "metadata": {
        "colab": {
          "base_uri": "https://localhost:8080/"
        },
        "id": "zyQd9zskEZN7",
        "outputId": "76135c52-d789-42da-d2bd-110c5b29eb69"
      },
      "source": [
        "a2[0]"
      ],
      "execution_count": 179,
      "outputs": [
        {
          "output_type": "execute_result",
          "data": {
            "text/plain": [
              "array([ 2.71828183,  7.3890561 , 20.08553692])"
            ]
          },
          "metadata": {},
          "execution_count": 179
        }
      ]
    },
    {
      "cell_type": "code",
      "metadata": {
        "colab": {
          "base_uri": "https://localhost:8080/"
        },
        "id": "7PGf4T6NEbrL",
        "outputId": "d04644cd-9ec5-4d4e-fb71-e4445d77f883"
      },
      "source": [
        "a3[0]"
      ],
      "execution_count": 180,
      "outputs": [
        {
          "output_type": "execute_result",
          "data": {
            "text/plain": [
              "array([[1, 2, 3],\n",
              "       [4, 5, 6],\n",
              "       [7, 8, 9]])"
            ]
          },
          "metadata": {},
          "execution_count": 180
        }
      ]
    },
    {
      "cell_type": "code",
      "metadata": {
        "colab": {
          "base_uri": "https://localhost:8080/"
        },
        "id": "ODHettC3Ejaa",
        "outputId": "e88e8f74-0a0f-4f6e-9f87-4f7794996d8b"
      },
      "source": [
        "a4 = np.random.randint(10, size=(2,4,5,5))\n",
        "a4"
      ],
      "execution_count": 181,
      "outputs": [
        {
          "output_type": "execute_result",
          "data": {
            "text/plain": [
              "array([[[[3, 6, 6, 0, 9],\n",
              "         [8, 4, 7, 0, 0],\n",
              "         [7, 1, 5, 7, 0],\n",
              "         [1, 4, 6, 2, 9],\n",
              "         [9, 9, 9, 1, 2]],\n",
              "\n",
              "        [[7, 0, 5, 0, 0],\n",
              "         [4, 4, 9, 3, 2],\n",
              "         [4, 6, 9, 3, 3],\n",
              "         [2, 1, 5, 7, 4],\n",
              "         [3, 1, 7, 3, 1]],\n",
              "\n",
              "        [[9, 5, 7, 0, 9],\n",
              "         [6, 0, 5, 2, 8],\n",
              "         [6, 8, 0, 5, 2],\n",
              "         [0, 7, 7, 6, 0],\n",
              "         [0, 8, 5, 5, 9]],\n",
              "\n",
              "        [[6, 4, 5, 2, 8],\n",
              "         [8, 1, 6, 3, 4],\n",
              "         [1, 8, 0, 2, 2],\n",
              "         [4, 1, 6, 3, 4],\n",
              "         [3, 1, 4, 2, 3]]],\n",
              "\n",
              "\n",
              "       [[[4, 9, 4, 0, 6],\n",
              "         [6, 9, 2, 9, 3],\n",
              "         [0, 8, 8, 9, 7],\n",
              "         [4, 8, 6, 8, 0],\n",
              "         [5, 3, 4, 0, 2]],\n",
              "\n",
              "        [[2, 1, 1, 7, 1],\n",
              "         [7, 2, 6, 3, 6],\n",
              "         [8, 0, 9, 1, 9],\n",
              "         [0, 8, 7, 7, 9],\n",
              "         [4, 1, 4, 2, 1]],\n",
              "\n",
              "        [[7, 5, 4, 2, 2],\n",
              "         [1, 2, 3, 1, 2],\n",
              "         [4, 9, 0, 1, 2],\n",
              "         [3, 8, 5, 5, 4],\n",
              "         [3, 9, 5, 9, 6]],\n",
              "\n",
              "        [[9, 5, 1, 1, 0],\n",
              "         [8, 0, 5, 9, 3],\n",
              "         [3, 0, 3, 7, 3],\n",
              "         [7, 3, 2, 6, 6],\n",
              "         [2, 7, 0, 3, 7]]]])"
            ]
          },
          "metadata": {},
          "execution_count": 181
        }
      ]
    },
    {
      "cell_type": "code",
      "metadata": {
        "colab": {
          "base_uri": "https://localhost:8080/"
        },
        "id": "_yvnJQVcG_g1",
        "outputId": "325d0c35-d2fd-41db-f746-434a3502c62c"
      },
      "source": [
        "# Filtering the above a4 array\n",
        "a4[:1,:,:,:2]"
      ],
      "execution_count": 182,
      "outputs": [
        {
          "output_type": "execute_result",
          "data": {
            "text/plain": [
              "array([[[[3, 6],\n",
              "         [8, 4],\n",
              "         [7, 1],\n",
              "         [1, 4],\n",
              "         [9, 9]],\n",
              "\n",
              "        [[7, 0],\n",
              "         [4, 4],\n",
              "         [4, 6],\n",
              "         [2, 1],\n",
              "         [3, 1]],\n",
              "\n",
              "        [[9, 5],\n",
              "         [6, 0],\n",
              "         [6, 8],\n",
              "         [0, 7],\n",
              "         [0, 8]],\n",
              "\n",
              "        [[6, 4],\n",
              "         [8, 1],\n",
              "         [1, 8],\n",
              "         [4, 1],\n",
              "         [3, 1]]]])"
            ]
          },
          "metadata": {},
          "execution_count": 182
        }
      ]
    },
    {
      "cell_type": "markdown",
      "metadata": {
        "id": "Wwg9GL7-Ir6Y"
      },
      "source": [
        "# **Manipulating Arrays & Matrices Numpy :)**"
      ]
    },
    {
      "cell_type": "markdown",
      "metadata": {
        "id": "Z7teO3nfI0mt"
      },
      "source": [
        "# Arithmetic Operations using Symbols"
      ]
    },
    {
      "cell_type": "code",
      "metadata": {
        "colab": {
          "base_uri": "https://localhost:8080/"
        },
        "id": "meExDF_BHwCd",
        "outputId": "19155fd9-43ed-4ecc-b8e6-a531079a3b67"
      },
      "source": [
        "a1"
      ],
      "execution_count": 183,
      "outputs": [
        {
          "output_type": "execute_result",
          "data": {
            "text/plain": [
              "array([1, 2, 3])"
            ]
          },
          "metadata": {},
          "execution_count": 183
        }
      ]
    },
    {
      "cell_type": "code",
      "metadata": {
        "colab": {
          "base_uri": "https://localhost:8080/"
        },
        "id": "hWsd7SnqMD1A",
        "outputId": "a75e3331-955d-4512-f226-9589c0336e12"
      },
      "source": [
        "a2"
      ],
      "execution_count": 184,
      "outputs": [
        {
          "output_type": "execute_result",
          "data": {
            "text/plain": [
              "array([[ 2.71828183,  7.3890561 , 20.08553692],\n",
              "       [ 2.71828183,  7.3890561 , 20.08553692]])"
            ]
          },
          "metadata": {},
          "execution_count": 184
        }
      ]
    },
    {
      "cell_type": "code",
      "metadata": {
        "colab": {
          "base_uri": "https://localhost:8080/"
        },
        "id": "Xg8hQVDdL-82",
        "outputId": "c253d42e-180d-4a1e-afd9-7c53290fc7ac"
      },
      "source": [
        "a1 + a2"
      ],
      "execution_count": 185,
      "outputs": [
        {
          "output_type": "execute_result",
          "data": {
            "text/plain": [
              "array([[ 3.71828183,  9.3890561 , 23.08553692],\n",
              "       [ 3.71828183,  9.3890561 , 23.08553692]])"
            ]
          },
          "metadata": {},
          "execution_count": 185
        }
      ]
    },
    {
      "cell_type": "code",
      "metadata": {
        "colab": {
          "base_uri": "https://localhost:8080/"
        },
        "id": "_yA363vTI_np",
        "outputId": "b9426c3f-03d1-4b96-a270-4da4089159a3"
      },
      "source": [
        "a1 - a2"
      ],
      "execution_count": 186,
      "outputs": [
        {
          "output_type": "execute_result",
          "data": {
            "text/plain": [
              "array([[ -1.71828183,  -5.3890561 , -17.08553692],\n",
              "       [ -1.71828183,  -5.3890561 , -17.08553692]])"
            ]
          },
          "metadata": {},
          "execution_count": 186
        }
      ]
    },
    {
      "cell_type": "code",
      "metadata": {
        "colab": {
          "base_uri": "https://localhost:8080/"
        },
        "id": "mvWAGn8zJGWR",
        "outputId": "08c6bb0b-88c4-4f15-aa81-f7a9983f1d18"
      },
      "source": [
        "a1 * a2"
      ],
      "execution_count": 187,
      "outputs": [
        {
          "output_type": "execute_result",
          "data": {
            "text/plain": [
              "array([[ 2.71828183, 14.7781122 , 60.25661077],\n",
              "       [ 2.71828183, 14.7781122 , 60.25661077]])"
            ]
          },
          "metadata": {},
          "execution_count": 187
        }
      ]
    },
    {
      "cell_type": "code",
      "metadata": {
        "colab": {
          "base_uri": "https://localhost:8080/"
        },
        "id": "MHThvQDTJeJK",
        "outputId": "bee4fd1f-71c7-456b-d108-275cc5bef831"
      },
      "source": [
        "a1 / a2"
      ],
      "execution_count": 188,
      "outputs": [
        {
          "output_type": "execute_result",
          "data": {
            "text/plain": [
              "array([[0.36787944, 0.27067057, 0.14936121],\n",
              "       [0.36787944, 0.27067057, 0.14936121]])"
            ]
          },
          "metadata": {},
          "execution_count": 188
        }
      ]
    },
    {
      "cell_type": "code",
      "metadata": {
        "colab": {
          "base_uri": "https://localhost:8080/"
        },
        "id": "vRwxNgHHJOGC",
        "outputId": "dbdbc3cf-78aa-40bf-f242-0537fdf03bab"
      },
      "source": [
        "# To Remove the Floor Decimals (Removing the values after the decimal point )\n",
        "\n",
        "a1 // a2"
      ],
      "execution_count": 189,
      "outputs": [
        {
          "output_type": "execute_result",
          "data": {
            "text/plain": [
              "array([[0., 0., 0.],\n",
              "       [0., 0., 0.]])"
            ]
          },
          "metadata": {},
          "execution_count": 189
        }
      ]
    },
    {
      "cell_type": "markdown",
      "metadata": {
        "id": "_uPKT0-jMeDr"
      },
      "source": [
        "# Multiplying two different Broadcasting shapes (Different Operands)"
      ]
    },
    {
      "cell_type": "code",
      "metadata": {
        "colab": {
          "base_uri": "https://localhost:8080/"
        },
        "id": "WespYhEiJWwx",
        "outputId": "7f47d4a9-a8e2-4059-fd75-b03fd510d462"
      },
      "source": [
        "a3"
      ],
      "execution_count": 190,
      "outputs": [
        {
          "output_type": "execute_result",
          "data": {
            "text/plain": [
              "array([[[ 1,  2,  3],\n",
              "        [ 4,  5,  6],\n",
              "        [ 7,  8,  9]],\n",
              "\n",
              "       [[10, 11, 12],\n",
              "        [13, 14, 15],\n",
              "        [16, 17, 18]]])"
            ]
          },
          "metadata": {},
          "execution_count": 190
        }
      ]
    },
    {
      "cell_type": "code",
      "metadata": {
        "colab": {
          "base_uri": "https://localhost:8080/"
        },
        "id": "OnJlBVeoJh9I",
        "outputId": "d89fea05-6da8-4b81-8865-b14a69aabb8c"
      },
      "source": [
        "a2.shape , a3.shape"
      ],
      "execution_count": 191,
      "outputs": [
        {
          "output_type": "execute_result",
          "data": {
            "text/plain": [
              "((2, 3), (2, 3, 3))"
            ]
          },
          "metadata": {},
          "execution_count": 191
        }
      ]
    },
    {
      "cell_type": "markdown",
      "metadata": {
        "id": "-CEhP4ieY5H3"
      },
      "source": [
        "# //See the Below to reshape and Multiply the arrays\\\\\\\\"
      ]
    },
    {
      "cell_type": "markdown",
      "metadata": {
        "id": "aVoswPcsX6fS"
      },
      "source": [
        "# **Reshaping the Array**"
      ]
    },
    {
      "cell_type": "code",
      "metadata": {
        "colab": {
          "base_uri": "https://localhost:8080/"
        },
        "id": "9ZZAaSj2Ypw6",
        "outputId": "ea6cdf16-90db-40e9-a185-b09307d76a4c"
      },
      "source": [
        "a3"
      ],
      "execution_count": 192,
      "outputs": [
        {
          "output_type": "execute_result",
          "data": {
            "text/plain": [
              "array([[[ 1,  2,  3],\n",
              "        [ 4,  5,  6],\n",
              "        [ 7,  8,  9]],\n",
              "\n",
              "       [[10, 11, 12],\n",
              "        [13, 14, 15],\n",
              "        [16, 17, 18]]])"
            ]
          },
          "metadata": {},
          "execution_count": 192
        }
      ]
    },
    {
      "cell_type": "code",
      "metadata": {
        "colab": {
          "base_uri": "https://localhost:8080/"
        },
        "id": "zPDC_ZRsM-5h",
        "outputId": "b4ee375b-7db1-4303-d19f-2625d5afbd13"
      },
      "source": [
        "# Reshaping a array\n",
        "reshape = a2.reshape(2,3,1).shape\n",
        "reshape"
      ],
      "execution_count": 193,
      "outputs": [
        {
          "output_type": "execute_result",
          "data": {
            "text/plain": [
              "(2, 3, 1)"
            ]
          },
          "metadata": {},
          "execution_count": 193
        }
      ]
    },
    {
      "cell_type": "code",
      "metadata": {
        "colab": {
          "base_uri": "https://localhost:8080/"
        },
        "id": "4-fzEV_kYU_h",
        "outputId": "4be11e55-f478-451c-82a2-e20b4f92b5f7"
      },
      "source": [
        "reshape * a3"
      ],
      "execution_count": 194,
      "outputs": [
        {
          "output_type": "execute_result",
          "data": {
            "text/plain": [
              "array([[[ 2,  6,  3],\n",
              "        [ 8, 15,  6],\n",
              "        [14, 24,  9]],\n",
              "\n",
              "       [[20, 33, 12],\n",
              "        [26, 42, 15],\n",
              "        [32, 51, 18]]])"
            ]
          },
          "metadata": {},
          "execution_count": 194
        }
      ]
    },
    {
      "cell_type": "code",
      "metadata": {
        "colab": {
          "base_uri": "https://localhost:8080/"
        },
        "id": "2wDyjAdbYh8F",
        "outputId": "52e14b74-2118-4d78-fa56-7679aed2ac3b"
      },
      "source": [
        "# Transposing the Array\n",
        "\n",
        "a3.T"
      ],
      "execution_count": 195,
      "outputs": [
        {
          "output_type": "execute_result",
          "data": {
            "text/plain": [
              "array([[[ 1, 10],\n",
              "        [ 4, 13],\n",
              "        [ 7, 16]],\n",
              "\n",
              "       [[ 2, 11],\n",
              "        [ 5, 14],\n",
              "        [ 8, 17]],\n",
              "\n",
              "       [[ 3, 12],\n",
              "        [ 6, 15],\n",
              "        [ 9, 18]]])"
            ]
          },
          "metadata": {},
          "execution_count": 195
        }
      ]
    },
    {
      "cell_type": "markdown",
      "metadata": {
        "id": "QumhKHRELtgC"
      },
      "source": [
        "#**Arithmetic Operations Using Numpy Functions**\n"
      ]
    },
    {
      "cell_type": "code",
      "metadata": {
        "colab": {
          "base_uri": "https://localhost:8080/"
        },
        "id": "5kbB0SWUJla4",
        "outputId": "7802eb10-0b68-477d-817e-4ebac6a4e6f1"
      },
      "source": [
        "np.add(a1,a2)"
      ],
      "execution_count": 196,
      "outputs": [
        {
          "output_type": "execute_result",
          "data": {
            "text/plain": [
              "array([[ 3.71828183,  9.3890561 , 23.08553692],\n",
              "       [ 3.71828183,  9.3890561 , 23.08553692]])"
            ]
          },
          "metadata": {},
          "execution_count": 196
        }
      ]
    },
    {
      "cell_type": "code",
      "metadata": {
        "colab": {
          "base_uri": "https://localhost:8080/"
        },
        "id": "bimofvPgL79d",
        "outputId": "b3d2328e-73cf-492c-a2a5-7d72bfba6d59"
      },
      "source": [
        "np.log(a1,a2)"
      ],
      "execution_count": 197,
      "outputs": [
        {
          "output_type": "execute_result",
          "data": {
            "text/plain": [
              "array([[0.        , 0.69314718, 1.09861229],\n",
              "       [0.        , 0.69314718, 1.09861229]])"
            ]
          },
          "metadata": {},
          "execution_count": 197
        }
      ]
    },
    {
      "cell_type": "code",
      "metadata": {
        "colab": {
          "base_uri": "https://localhost:8080/"
        },
        "id": "f3pRbfKsPH6u",
        "outputId": "7e7c355f-062e-449e-cf5f-b7083216a5e5"
      },
      "source": [
        "# MOdulo in Numpy\n",
        "a1 % 2"
      ],
      "execution_count": 198,
      "outputs": [
        {
          "output_type": "execute_result",
          "data": {
            "text/plain": [
              "array([1, 0, 1])"
            ]
          },
          "metadata": {},
          "execution_count": 198
        }
      ]
    },
    {
      "cell_type": "code",
      "metadata": {
        "colab": {
          "base_uri": "https://localhost:8080/"
        },
        "id": "xryqtMoEPUV-",
        "outputId": "cfe88543-fa3d-49aa-96e5-802516953cd6"
      },
      "source": [
        "np.exp(a1,a2)"
      ],
      "execution_count": 199,
      "outputs": [
        {
          "output_type": "execute_result",
          "data": {
            "text/plain": [
              "array([[ 2.71828183,  7.3890561 , 20.08553692],\n",
              "       [ 2.71828183,  7.3890561 , 20.08553692]])"
            ]
          },
          "metadata": {},
          "execution_count": 199
        }
      ]
    },
    {
      "cell_type": "markdown",
      "metadata": {
        "id": "z0oOAwrDP9fM"
      },
      "source": [
        "# **Aggregation**\n",
        "\n",
        "        Aggregation = performing  the dame operation on a number of things"
      ]
    },
    {
      "cell_type": "code",
      "metadata": {
        "colab": {
          "base_uri": "https://localhost:8080/"
        },
        "id": "KiEoay0nSLQ1",
        "outputId": "cc627c6a-1c5f-4f7a-9bc3-e53ee6dd69ca"
      },
      "source": [
        "# Creating list in numpy\n",
        "list = [1,2,3]\n",
        "list"
      ],
      "execution_count": 200,
      "outputs": [
        {
          "output_type": "execute_result",
          "data": {
            "text/plain": [
              "[1, 2, 3]"
            ]
          },
          "metadata": {},
          "execution_count": 200
        }
      ]
    },
    {
      "cell_type": "code",
      "metadata": {
        "colab": {
          "base_uri": "https://localhost:8080/"
        },
        "id": "g_sr-57aSZCg",
        "outputId": "b477508a-6af8-4ac6-d9ea-13a019708068"
      },
      "source": [
        "sum(list)"
      ],
      "execution_count": 201,
      "outputs": [
        {
          "output_type": "execute_result",
          "data": {
            "text/plain": [
              "6"
            ]
          },
          "metadata": {},
          "execution_count": 201
        }
      ]
    },
    {
      "cell_type": "code",
      "metadata": {
        "colab": {
          "base_uri": "https://localhost:8080/"
        },
        "id": "8yAhk0XaSa8I",
        "outputId": "cf7ef7d9-8922-474c-a8b4-a6d5bc313d23"
      },
      "source": [
        "# Creating Massive Array \n",
        "\n",
        "massive_array = np.random.random(100000)\n",
        "massive_array.size"
      ],
      "execution_count": 202,
      "outputs": [
        {
          "output_type": "execute_result",
          "data": {
            "text/plain": [
              "100000"
            ]
          },
          "metadata": {},
          "execution_count": 202
        }
      ]
    },
    {
      "cell_type": "code",
      "metadata": {
        "colab": {
          "base_uri": "https://localhost:8080/"
        },
        "id": "HANqKc-zSvW3",
        "outputId": "9c7381c3-9a9c-4ab6-f502-190f0c988c27"
      },
      "source": [
        "massive_array[:20]"
      ],
      "execution_count": 203,
      "outputs": [
        {
          "output_type": "execute_result",
          "data": {
            "text/plain": [
              "array([0.57598771, 0.82936463, 0.09531394, 0.12483737, 0.72357494,\n",
              "       0.20777913, 0.36245928, 0.94475876, 0.74223792, 0.42767057,\n",
              "       0.16597462, 0.52842608, 0.10917502, 0.70361658, 0.78450887,\n",
              "       0.85904413, 0.70221941, 0.9010161 , 0.76475656, 0.75957701])"
            ]
          },
          "metadata": {},
          "execution_count": 203
        }
      ]
    },
    {
      "cell_type": "code",
      "metadata": {
        "colab": {
          "base_uri": "https://localhost:8080/"
        },
        "id": "Hkhkb65gaEpW",
        "outputId": "da19a97c-7b8c-43c0-8998-5c8e51f4412f"
      },
      "source": [
        "a2"
      ],
      "execution_count": 204,
      "outputs": [
        {
          "output_type": "execute_result",
          "data": {
            "text/plain": [
              "array([[ 2.71828183,  7.3890561 , 20.08553692],\n",
              "       [ 2.71828183,  7.3890561 , 20.08553692]])"
            ]
          },
          "metadata": {},
          "execution_count": 204
        }
      ]
    },
    {
      "cell_type": "code",
      "metadata": {
        "colab": {
          "base_uri": "https://localhost:8080/"
        },
        "id": "Icz48eMjZsdq",
        "outputId": "441aaced-ad1d-45ae-9b01-110f295d129b"
      },
      "source": [
        "# Transposing the Arrays    -     Transposing the Axis ( transverse of rows to columns & vice-versa)\n",
        "a2.T\n"
      ],
      "execution_count": 205,
      "outputs": [
        {
          "output_type": "execute_result",
          "data": {
            "text/plain": [
              "array([[ 2.71828183,  2.71828183],\n",
              "       [ 7.3890561 ,  7.3890561 ],\n",
              "       [20.08553692, 20.08553692]])"
            ]
          },
          "metadata": {},
          "execution_count": 205
        }
      ]
    },
    {
      "cell_type": "code",
      "metadata": {
        "colab": {
          "base_uri": "https://localhost:8080/"
        },
        "id": "XfVewq2kS6_3",
        "outputId": "e8da34dc-7e11-4708-c9d9-f63504e296e0"
      },
      "source": [
        "# Adding massive_array Using Python & Numpy function\n",
        "# %time is to calculate the computation time\n",
        "\n",
        "%time sum(massive_array)\n",
        "%time np.sum(massive_array)"
      ],
      "execution_count": 206,
      "outputs": [
        {
          "output_type": "stream",
          "name": "stdout",
          "text": [
            "CPU times: user 15.6 ms, sys: 1.98 ms, total: 17.5 ms\n",
            "Wall time: 17.3 ms\n",
            "CPU times: user 142 µs, sys: 14 µs, total: 156 µs\n",
            "Wall time: 163 µs\n"
          ]
        },
        {
          "output_type": "execute_result",
          "data": {
            "text/plain": [
              "49988.053233614075"
            ]
          },
          "metadata": {},
          "execution_count": 206
        }
      ]
    },
    {
      "cell_type": "code",
      "metadata": {
        "colab": {
          "base_uri": "https://localhost:8080/"
        },
        "id": "jWzMnErlTx_-",
        "outputId": "1d3e22cd-80ae-446a-8376-cd1ff020e8eb"
      },
      "source": [
        "massive_array"
      ],
      "execution_count": 207,
      "outputs": [
        {
          "output_type": "execute_result",
          "data": {
            "text/plain": [
              "array([0.57598771, 0.82936463, 0.09531394, ..., 0.66906458, 0.96104166,\n",
              "       0.01328352])"
            ]
          },
          "metadata": {},
          "execution_count": 207
        }
      ]
    },
    {
      "cell_type": "code",
      "metadata": {
        "colab": {
          "base_uri": "https://localhost:8080/"
        },
        "id": "qoSdmnRATkcX",
        "outputId": "fb8f424f-45b1-40ff-e37b-2ce7ea4d87ba"
      },
      "source": [
        "#Finding Mean of the Array\n",
        "\n",
        "massive_array.mean()"
      ],
      "execution_count": 208,
      "outputs": [
        {
          "output_type": "execute_result",
          "data": {
            "text/plain": [
              "0.49988053233614077"
            ]
          },
          "metadata": {},
          "execution_count": 208
        }
      ]
    },
    {
      "cell_type": "code",
      "metadata": {
        "colab": {
          "base_uri": "https://localhost:8080/"
        },
        "id": "Kd9t_z18Txbn",
        "outputId": "0a41a6ac-f780-4530-f06d-e326330e678e"
      },
      "source": [
        "# Maximum of the Array\n",
        "\n",
        "massive_array.max()"
      ],
      "execution_count": 209,
      "outputs": [
        {
          "output_type": "execute_result",
          "data": {
            "text/plain": [
              "0.9999955100641422"
            ]
          },
          "metadata": {},
          "execution_count": 209
        }
      ]
    },
    {
      "cell_type": "code",
      "metadata": {
        "colab": {
          "base_uri": "https://localhost:8080/"
        },
        "id": "dVIxwdkFUAQm",
        "outputId": "ca794bf7-117c-4864-d63d-60d065446c82"
      },
      "source": [
        "# Minimum of the Array\n",
        "\n",
        "massive_array.min()"
      ],
      "execution_count": 210,
      "outputs": [
        {
          "output_type": "execute_result",
          "data": {
            "text/plain": [
              "3.0730062675621284e-06"
            ]
          },
          "metadata": {},
          "execution_count": 210
        }
      ]
    },
    {
      "cell_type": "code",
      "metadata": {
        "colab": {
          "base_uri": "https://localhost:8080/"
        },
        "id": "gTl3leiRUE8N",
        "outputId": "ef36615b-e0b8-468b-dfe7-bf8d945701e2"
      },
      "source": [
        "# Standard Deviation of the Array\n",
        "\n",
        "massive_array.std()"
      ],
      "execution_count": 211,
      "outputs": [
        {
          "output_type": "execute_result",
          "data": {
            "text/plain": [
              "0.2885803470845556"
            ]
          },
          "metadata": {},
          "execution_count": 211
        }
      ]
    },
    {
      "cell_type": "code",
      "metadata": {
        "id": "-i0hNSc6UIoW"
      },
      "source": [
        "# Variance of the Array\n",
        "\n",
        "variance = massive_array.var()"
      ],
      "execution_count": 212,
      "outputs": []
    },
    {
      "cell_type": "code",
      "metadata": {
        "colab": {
          "base_uri": "https://localhost:8080/"
        },
        "id": "Puh9gyTKUMIm",
        "outputId": "6effce23-f5dc-4836-accb-19bcca2b35a9"
      },
      "source": [
        "# Squareroot of the Variance\n",
        "\n",
        "np.sqrt(variance)"
      ],
      "execution_count": 213,
      "outputs": [
        {
          "output_type": "execute_result",
          "data": {
            "text/plain": [
              "0.2885803470845556"
            ]
          },
          "metadata": {},
          "execution_count": 213
        }
      ]
    },
    {
      "cell_type": "markdown",
      "metadata": {
        "id": "Qg8qUvIXVekT"
      },
      "source": [
        "# **Standard Deviation & Variance in Numpy**"
      ]
    },
    {
      "cell_type": "code",
      "metadata": {
        "id": "SYuVtngHUY4M"
      },
      "source": [
        "high_array = np.array([500, 1000, 5000, 10000])\n",
        "low_array = np.array([2,5,7,9])"
      ],
      "execution_count": 214,
      "outputs": []
    },
    {
      "cell_type": "code",
      "metadata": {
        "colab": {
          "base_uri": "https://localhost:8080/"
        },
        "id": "iPfJBRuuWSv_",
        "outputId": "1fc28cc0-146f-483b-ee1f-7ea45ca9e378"
      },
      "source": [
        "# Standard Deviation\n",
        "np.std(high_array) , np.std(low_array)\n"
      ],
      "execution_count": 215,
      "outputs": [
        {
          "output_type": "execute_result",
          "data": {
            "text/plain": [
              "(3814.0365755980893, 2.5860201081971503)"
            ]
          },
          "metadata": {},
          "execution_count": 215
        }
      ]
    },
    {
      "cell_type": "code",
      "metadata": {
        "colab": {
          "base_uri": "https://localhost:8080/"
        },
        "id": "2Db8U4GpWMo5",
        "outputId": "8d5c5368-2285-44d0-ea1e-793e8ae5b592"
      },
      "source": [
        "# Variance\n",
        "np.var(high_array) , np.var(low_array)"
      ],
      "execution_count": 216,
      "outputs": [
        {
          "output_type": "execute_result",
          "data": {
            "text/plain": [
              "(14546875.0, 6.6875)"
            ]
          },
          "metadata": {},
          "execution_count": 216
        }
      ]
    },
    {
      "cell_type": "code",
      "metadata": {
        "colab": {
          "base_uri": "https://localhost:8080/",
          "height": 281
        },
        "id": "ZbXqUtGMVynz",
        "outputId": "427d45fb-b946-4bba-87a6-7d6c91877aac"
      },
      "source": [
        "%matplotlib inline\n",
        "import matplotlib.pyplot as plt\n",
        "plt.hist(high_array)\n",
        "plt.show"
      ],
      "execution_count": 217,
      "outputs": [
        {
          "output_type": "execute_result",
          "data": {
            "text/plain": [
              "<function matplotlib.pyplot.show>"
            ]
          },
          "metadata": {},
          "execution_count": 217
        },
        {
          "output_type": "display_data",
          "data": {
            "image/png": "[encoded data removed]",
            "text/plain": [
              "<Figure size 432x288 with 1 Axes>"
            ]
          },
          "metadata": {
            "needs_background": "light"
          }
        }
      ]
    },
    {
      "cell_type": "code",
      "metadata": {
        "colab": {
          "base_uri": "https://localhost:8080/",
          "height": 281
        },
        "id": "z4Wp8pf4XRn3",
        "outputId": "6c44085d-2d14-47c0-d08c-9c5565545380"
      },
      "source": [
        "plt.hist(low_array)\n",
        "plt.show"
      ],
      "execution_count": 218,
      "outputs": [
        {
          "output_type": "execute_result",
          "data": {
            "text/plain": [
              "<function matplotlib.pyplot.show>"
            ]
          },
          "metadata": {},
          "execution_count": 218
        },
        {
          "output_type": "display_data",
          "data": {
            "image/png": "[encoded data removed]",
            "text/plain": [
              "<Figure size 432x288 with 1 Axes>"
            ]
          },
          "metadata": {
            "needs_background": "light"
          }
        }
      ]
    },
    {
      "cell_type": "markdown",
      "metadata": {
        "id": "NS2W6PmObWmz"
      },
      "source": [
        "# **Dot Product**"
      ]
    },
    {
      "cell_type": "code",
      "metadata": {
        "id": "P00JIhatbWV0"
      },
      "source": [
        "mat1 = np.random.randint(10, size=(4,5))\n",
        "mat2 = np.random.randint(10, size=(4,5))"
      ],
      "execution_count": 219,
      "outputs": []
    },
    {
      "cell_type": "code",
      "metadata": {
        "colab": {
          "base_uri": "https://localhost:8080/"
        },
        "id": "mvsn203zeB3e",
        "outputId": "28f39e9c-18c8-474d-a089-e76ff25362fb"
      },
      "source": [
        "mat2"
      ],
      "execution_count": 220,
      "outputs": [
        {
          "output_type": "execute_result",
          "data": {
            "text/plain": [
              "array([[1, 2, 6, 5, 2],\n",
              "       [3, 1, 5, 6, 3],\n",
              "       [7, 7, 1, 4, 3],\n",
              "       [0, 1, 3, 6, 3]])"
            ]
          },
          "metadata": {},
          "execution_count": 220
        }
      ]
    },
    {
      "cell_type": "code",
      "metadata": {
        "colab": {
          "base_uri": "https://localhost:8080/"
        },
        "id": "IxoxCUZ4XTxP",
        "outputId": "51d17ff7-f2ef-46c9-b7d9-81fc412c63fb"
      },
      "source": [
        "mat2t = mat2.T\n",
        "mat2t"
      ],
      "execution_count": 221,
      "outputs": [
        {
          "output_type": "execute_result",
          "data": {
            "text/plain": [
              "array([[1, 3, 7, 0],\n",
              "       [2, 1, 7, 1],\n",
              "       [6, 5, 1, 3],\n",
              "       [5, 6, 4, 6],\n",
              "       [2, 3, 3, 3]])"
            ]
          },
          "metadata": {},
          "execution_count": 221
        }
      ]
    },
    {
      "cell_type": "code",
      "metadata": {
        "colab": {
          "base_uri": "https://localhost:8080/"
        },
        "id": "tmBvogJ8dzPb",
        "outputId": "d8723e70-6542-4eb3-ba11-adf4c1f75c7d"
      },
      "source": [
        "np.dot(mat1,mat2t)"
      ],
      "execution_count": 222,
      "outputs": [
        {
          "output_type": "execute_result",
          "data": {
            "text/plain": [
              "array([[ 78,  79, 111,  72],\n",
              "       [ 70,  93,  93,  69],\n",
              "       [102,  99, 125,  69],\n",
              "       [ 51,  71, 109,  42]])"
            ]
          },
          "metadata": {},
          "execution_count": 222
        }
      ]
    },
    {
      "cell_type": "markdown",
      "metadata": {
        "id": "I25fetnVeJZQ"
      },
      "source": [
        "# **Sorting Arrays** "
      ]
    },
    {
      "cell_type": "code",
      "metadata": {
        "colab": {
          "base_uri": "https://localhost:8080/"
        },
        "id": "vVTxwA7SeIBT",
        "outputId": "a4b62529-034b-4b00-e516-d03ae53fd0f1"
      },
      "source": [
        "random_array"
      ],
      "execution_count": 223,
      "outputs": [
        {
          "output_type": "execute_result",
          "data": {
            "text/plain": [
              "array([[28, 10, 64, 82, 34],\n",
              "       [54, 19, 41, 91, 49],\n",
              "       [68, 39, 46, 94, 31],\n",
              "       [93,  7, 15, 31, 14]])"
            ]
          },
          "metadata": {},
          "execution_count": 223
        }
      ]
    },
    {
      "cell_type": "code",
      "metadata": {
        "colab": {
          "base_uri": "https://localhost:8080/"
        },
        "id": "EdBNd5NchVh9",
        "outputId": "426dd2e9-98a8-4605-8920-53bc54f6b6f8"
      },
      "source": [
        "np.sort(random_array)"
      ],
      "execution_count": 224,
      "outputs": [
        {
          "output_type": "execute_result",
          "data": {
            "text/plain": [
              "array([[10, 28, 34, 64, 82],\n",
              "       [19, 41, 49, 54, 91],\n",
              "       [31, 39, 46, 68, 94],\n",
              "       [ 7, 14, 15, 31, 93]])"
            ]
          },
          "metadata": {},
          "execution_count": 224
        }
      ]
    },
    {
      "cell_type": "code",
      "metadata": {
        "colab": {
          "base_uri": "https://localhost:8080/"
        },
        "id": "25FwkQpbhXis",
        "outputId": "e49cd30b-d59a-4050-e782-a5919aa65ca4"
      },
      "source": [
        "# .argsort() will sort based on the indexes\n",
        "\n",
        "np.argsort(random_array)"
      ],
      "execution_count": 225,
      "outputs": [
        {
          "output_type": "execute_result",
          "data": {
            "text/plain": [
              "array([[1, 0, 4, 2, 3],\n",
              "       [1, 2, 4, 0, 3],\n",
              "       [4, 1, 2, 0, 3],\n",
              "       [1, 4, 2, 3, 0]])"
            ]
          },
          "metadata": {},
          "execution_count": 225
        }
      ]
    },
    {
      "cell_type": "code",
      "metadata": {
        "colab": {
          "base_uri": "https://localhost:8080/"
        },
        "id": "8-iI5Bhzha5c",
        "outputId": "3426f1e5-cbf1-45bf-ec73-488f74978130"
      },
      "source": [
        "np.argmin(random_array)"
      ],
      "execution_count": 226,
      "outputs": [
        {
          "output_type": "execute_result",
          "data": {
            "text/plain": [
              "16"
            ]
          },
          "metadata": {},
          "execution_count": 226
        }
      ]
    },
    {
      "cell_type": "code",
      "metadata": {
        "colab": {
          "base_uri": "https://localhost:8080/"
        },
        "id": "EmrfNKjJh_fE",
        "outputId": "4bc06f59-d68d-4af8-b94f-681a153b3798"
      },
      "source": [
        "np.argmax(random_array)"
      ],
      "execution_count": 227,
      "outputs": [
        {
          "output_type": "execute_result",
          "data": {
            "text/plain": [
              "13"
            ]
          },
          "metadata": {},
          "execution_count": 227
        }
      ]
    },
    {
      "cell_type": "code",
      "metadata": {
        "colab": {
          "base_uri": "https://localhost:8080/"
        },
        "id": "GyjQMYgyiE-c",
        "outputId": "d164dda1-7e22-4d42-95ae-80acda0fd471"
      },
      "source": [
        "# It will sort based on the axis)     **axis=o \"Horizontal\"**\n",
        "\n",
        "np.argmax(random_array, axis=0)"
      ],
      "execution_count": 228,
      "outputs": [
        {
          "output_type": "execute_result",
          "data": {
            "text/plain": [
              "array([3, 2, 0, 2, 1])"
            ]
          },
          "metadata": {},
          "execution_count": 228
        }
      ]
    },
    {
      "cell_type": "code",
      "metadata": {
        "colab": {
          "base_uri": "https://localhost:8080/"
        },
        "id": "pGvaCtLFiO48",
        "outputId": "6ba92a04-9212-469e-ec47-76d5d8889293"
      },
      "source": [
        "# **axis=1 \"Vertical\"**\n",
        "\n",
        "np.argmax(random_array, axis=1)       "
      ],
      "execution_count": 229,
      "outputs": [
        {
          "output_type": "execute_result",
          "data": {
            "text/plain": [
              "array([3, 3, 3, 0])"
            ]
          },
          "metadata": {},
          "execution_count": 229
        }
      ]
    },
    {
      "cell_type": "markdown",
      "metadata": {
        "id": "O08iCiakluD4"
      },
      "source": [
        "# **Images into Numpy Array**"
      ]
    },
    {
      "cell_type": "markdown",
      "metadata": {
        "id": "rBKhUySCqfaH"
      },
      "source": [
        "**Steps to view the image in the Google Colab**\n",
        "\n",
        "\n",
        "\n",
        "1.   **To view the uploaded image** \n",
        "\n"
      ]
    },
    {
      "cell_type": "code",
      "metadata": {
        "id": "QbKp2F4LqGNl"
      },
      "source": [
        "# Import the Dependencies to view the picture\n",
        "\n",
        "\n",
        "import cv2 as cv\n",
        "from google.colab.patches import cv2_imshow"
      ],
      "execution_count": 259,
      "outputs": []
    },
    {
      "cell_type": "code",
      "metadata": {
        "colab": {
          "base_uri": "https://localhost:8080/",
          "height": 212
        },
        "id": "BWzaDSm5o4G0",
        "outputId": "bea69f92-ad7e-4a0f-8ec5-9b8eb8a051f1"
      },
      "source": [
        "#Reading the images from the desired location\n",
        "img = cv.imread('/content/sample_data/audi.jpg')\n",
        "cv2_imshow(img)"
      ],
      "execution_count": 263,
      "outputs": [
        {
          "output_type": "display_data",
          "data": {
            "image/png": "[encoded data removed]",
            "text/plain": [
              "<PIL.Image.Image image mode=RGB size=258x195 at 0x7F4F2480F590>"
            ]
          },
          "metadata": {}
        }
      ]
    },
    {
      "cell_type": "code",
      "metadata": {
        "colab": {
          "base_uri": "https://localhost:8080/"
        },
        "id": "PPt__ufSiUyD",
        "outputId": "cf14b4fd-986f-468c-95c8-5caed5dd8310"
      },
      "source": [
        "from matplotlib.image import imread\n",
        "\n",
        "audi = imread(\"audi.jpg\")\n",
        "print(type(audi))"
      ],
      "execution_count": 237,
      "outputs": [
        {
          "output_type": "stream",
          "name": "stdout",
          "text": [
            "<class 'numpy.ndarray'>\n"
          ]
        }
      ]
    },
    {
      "cell_type": "code",
      "metadata": {
        "colab": {
          "base_uri": "https://localhost:8080/"
        },
        "id": "HilGnmLVmhD4",
        "outputId": "0df507b8-65b7-4356-fdd9-86936fc53482"
      },
      "source": [
        "audi"
      ],
      "execution_count": 270,
      "outputs": [
        {
          "output_type": "execute_result",
          "data": {
            "text/plain": [
              "array([[[216, 208, 187],\n",
              "        [191, 183, 162],\n",
              "        [204, 196, 175],\n",
              "        ...,\n",
              "        [ 84,  62,  41],\n",
              "        [100, 104,  79],\n",
              "        [100, 104,  79]],\n",
              "\n",
              "       [[203, 193, 168],\n",
              "        [208, 200, 177],\n",
              "        [196, 188, 165],\n",
              "        ...,\n",
              "        [ 99,  76,  58],\n",
              "        [ 96, 101,  78],\n",
              "        [ 96, 101,  78]],\n",
              "\n",
              "       [[190, 181, 152],\n",
              "        [183, 173, 146],\n",
              "        [177, 167, 140],\n",
              "        ...,\n",
              "        [ 78,  57,  38],\n",
              "        [ 89,  99,  75],\n",
              "        [ 89,  99,  75]],\n",
              "\n",
              "       ...,\n",
              "\n",
              "       [[198, 197, 177],\n",
              "        [190, 189, 169],\n",
              "        [181, 180, 160],\n",
              "        ...,\n",
              "        [192, 192, 164],\n",
              "        [192, 191, 171],\n",
              "        [192, 191, 171]],\n",
              "\n",
              "       [[197, 196, 176],\n",
              "        [189, 188, 168],\n",
              "        [181, 180, 160],\n",
              "        ...,\n",
              "        [192, 192, 164],\n",
              "        [192, 191, 171],\n",
              "        [192, 191, 171]],\n",
              "\n",
              "       [[196, 195, 175],\n",
              "        [188, 187, 167],\n",
              "        [180, 179, 159],\n",
              "        ...,\n",
              "        [192, 192, 164],\n",
              "        [192, 191, 171],\n",
              "        [192, 191, 171]]], dtype=uint8)"
            ]
          },
          "metadata": {},
          "execution_count": 270
        }
      ]
    }
  ]
}
